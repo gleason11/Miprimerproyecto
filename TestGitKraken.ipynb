{
 "cells": [
  {
   "cell_type": "markdown",
   "metadata": {},
   "source": [
    "### Presentación"
   ]
  },
  {
   "cell_type": "markdown",
   "metadata": {},
   "source": [
    "- **Nombre**: Marcus Gleason Ramirez\n",
    "- **Carrera**: Ingeniería Financiera\n",
    "- **Edad**: 21 años\n",
    "- **Pasatiempos**: Rugby, videojuegos, amigos\n",
    "- **Educación**: ITESO"
   ]
  },
  {
   "cell_type": "markdown",
   "metadata": {},
   "source": [
    "<img src=\"https://orig00.deviantart.net/d406/f/2011/092/2/3/23355cde3100481487a9c1ac0c9de919-d3d1xcm.jpg\" width=\"150px\" height=\"50px\" />"
   ]
  },
  {
   "cell_type": "markdown",
   "metadata": {},
   "source": [
    "<img src=\"https://encrypted-tbn0.gstatic.com/images?q=tbn:ANd9GcQimsWJU5snAsJ3KaAmigUOpn-K14VDDEb39qu8fX2lRxPcDPQhsA\" width=\"150px\" height=\"50px\" />"
   ]
  },
  {
   "cell_type": "code",
   "execution_count": null,
   "metadata": {},
   "outputs": [],
   "source": []
  }
 ],
 "metadata": {
  "kernelspec": {
   "display_name": "Python 3",
   "language": "python",
   "name": "python3"
  },
  "language_info": {
   "codemirror_mode": {
    "name": "ipython",
    "version": 3
   },
   "file_extension": ".py",
   "mimetype": "text/x-python",
   "name": "python",
   "nbconvert_exporter": "python",
   "pygments_lexer": "ipython3",
   "version": "3.6.5"
  }
 },
 "nbformat": 4,
 "nbformat_minor": 2
}
